{
 "cells": [
  {
   "cell_type": "markdown",
   "metadata": {},
   "source": [
    "# Exercice de test technique Data Science\n",
    "\n",
    "## Premiere étape : acquisition de la data, et création de data cohérente\n",
    "\n",
    "A noter : j'ai laissé quelques print commentés au fur et à mesure du notebook, si vous êtes curieux de voir à quoi les dataframes ressemblent après les étapes de leur construction/ nettoyage.\n",
    "\n",
    "Les imports et la creation des Dataframes grâce aux différents .CSV :"
   ]
  },
  {
   "cell_type": "code",
   "execution_count": 1,
   "metadata": {},
   "outputs": [],
   "source": [
    "import pandas as pd\n",
    "import numpy as np\n",
    "from math import radians, cos, sin, asin, sqrt\n",
    "import matplotlib.pyplot as plt\n",
    "import re\n",
    "\n",
    "df_ticket = pd.read_csv('ticket_data.csv')\n",
    "df_providers = pd.read_csv('providers.csv')\n",
    "df_cities = pd.read_csv('cities.csv')\n",
    "df_stations = pd.read_csv('stations.csv')"
   ]
  },
  {
   "cell_type": "markdown",
   "metadata": {},
   "source": [
    "### Avec la data, on va pouvoir ajouter des colonnes avec des data croisées.\n",
    "\n",
    "il est difficile de gerer de la data avec des foreign keys avec pandas. Je n'utiliserais pas le **\"pd.attrs\"** pour sa fragilité dans la propagation dans la data.\n",
    "\n",
    "Dans la cellule suivante, je convertis les données departure_ts et arrival_ts en datetime64 pour obtenir des durées de trajets (en heures, en float) dans la colonne subsequemment crée."
   ]
  },
  {
   "cell_type": "code",
   "execution_count": 2,
   "metadata": {},
   "outputs": [],
   "source": [
    "df_ticket['departure_ts'] = pd.to_datetime(df_ticket['departure_ts'], )\n",
    "df_ticket['arrival_ts'] = pd.to_datetime(df_ticket['arrival_ts'], )\n",
    "df_ticket['travel_duration'] = round((df_ticket['arrival_ts'] - df_ticket['departure_ts']).dt.total_seconds()/3600, 2)"
   ]
  },
  {
   "cell_type": "code",
   "execution_count": 3,
   "metadata": {},
   "outputs": [],
   "source": [
    "#######TEST PRINT###########\n",
    "# print(df_ticket.dtypes)\n",
    "# print(df_ticket.head(5))"
   ]
  },
  {
   "cell_type": "markdown",
   "metadata": {},
   "source": [
    "L'accessibilité entre deux données de deux dataframes avec une structure differente est réduite.\n",
    "Pour rendre la vectorisation possible, et reduire les temps de calculs futurs lors des requetes,\n",
    "Je rassemble la data dans une dataframe.\n",
    "\n",
    "Extraire la data grace à des foreigns keys n'est pas quelquechose de couvert correctement par pandas.\n",
    "\n",
    "Les boucles **for** de la cellule suivante, bien que peu efficaces, permettent l'extraction des données GPS des villes qui concernent le ticket.\n"
   ]
  },
  {
   "cell_type": "code",
   "execution_count": 4,
   "metadata": {
    "scrolled": true
   },
   "outputs": [],
   "source": [
    "## Création de la colonne 'o_city_lat' qui contient les latitudes des villes de départ des trajets\n",
    "\n",
    "df_ticket['o_city_lat'] = [df_cities.at[np.where(df_cities['id'] == city_id)[0][0], 'latitude'] for city_id in df_ticket['o_city']]\n",
    "\n",
    "################################################\n",
    "\n",
    "## Création de la colonne 'd_city_lat' qui contient les latitudes des villes d'arrivée des trajets\n",
    "    \n",
    "df_ticket['d_city_lat'] = [df_cities.at[np.where(df_cities['id'] == city_id)[0][0], 'latitude'] for city_id in df_ticket['d_city']]\n",
    "\n",
    "################################################\n",
    "\n",
    "## Création de la colonne 'o_city_lon' qui contient les longitudes des villes de départ des trajets\n",
    "    \n",
    "df_ticket['o_city_lon'] = [df_cities.at[np.where(df_cities['id'] == city_id)[0][0], 'longitude'] for city_id in df_ticket['o_city']]\n",
    "\n",
    "################################################\n",
    "\n",
    "## Création de la colonne 'd_city_lon' qui contient les longitudes des villes d'arrivée des trajets\n",
    "    \n",
    "df_ticket['d_city_lon'] = [df_cities.at[np.where(df_cities['id'] == city_id)[0][0], 'longitude'] for city_id in df_ticket['d_city']]"
   ]
  },
  {
   "cell_type": "code",
   "execution_count": 5,
   "metadata": {},
   "outputs": [],
   "source": [
    "#######TEST PRINT###########\n",
    "# print(df_ticket.head(5))\n",
    "# print(df_ticket.dtypes)"
   ]
  },
  {
   "cell_type": "markdown",
   "metadata": {},
   "source": [
    "Grâce aux colonnes **'o_city_lat', 'o_city_lon' et 'd_city_lat', 'd_city_lon'**, je vais pouvoir obtenir la distance en km entre les villes de depart et d'arrivée d'un trajet.\n",
    "\n",
    "Je definis la fonction _haversine_ qui permet le calcul des distances avec les coordonnées gps.\n",
    "Grâce à Numpy, je peux transformer la fonction _haversine_ pour la vectorisation, qui donne une très bonne rapidité d'execution des calculs sur la dataframe.  "
   ]
  },
  {
   "cell_type": "code",
   "execution_count": 6,
   "metadata": {},
   "outputs": [],
   "source": [
    "def haversine(lat1, lon1, lat2, lon2):\n",
    "\n",
    "    R = 6372.8\n",
    "    \n",
    "    dLat = radians(lat2 - lat1)\n",
    "    dLon = radians(lon2 - lon1)\n",
    "    lat1 = radians(lat1)\n",
    "    lat2 = radians(lat2)\n",
    "\n",
    "    a = sin(dLat/2)**2 + cos(lat1)*cos(lat2)*sin(dLon/2)**2\n",
    "    c = 2*asin(sqrt(a))\n",
    "\n",
    "    return round(R * c, 2)\n",
    "\n",
    "haver_vec = np.vectorize(haversine, otypes=[np.float64])\n",
    "\n",
    "df_ticket['travel_distance'] = haver_vec(df_ticket['o_city_lat'], df_ticket['o_city_lon'], df_ticket['d_city_lat'], df_ticket['d_city_lon'])"
   ]
  },
  {
   "cell_type": "markdown",
   "metadata": {},
   "source": [
    "Je vais maintenant supprimer les colonnes de latitude et de longitude, qui ont rempli leur office."
   ]
  },
  {
   "cell_type": "code",
   "execution_count": 7,
   "metadata": {},
   "outputs": [],
   "source": [
    "df_ticket = df_ticket.drop(columns = ['o_city_lat', 'd_city_lat', 'o_city_lon', 'd_city_lon'], axis = 1)\n"
   ]
  },
  {
   "cell_type": "code",
   "execution_count": 8,
   "metadata": {
    "scrolled": true
   },
   "outputs": [],
   "source": [
    "#######TEST PRINT###########\n",
    "# print(df_ticket.head(10))\n",
    "# print(df_providers.head(10))\n",
    "# print(df_providers.dtypes)"
   ]
  },
  {
   "cell_type": "markdown",
   "metadata": {},
   "source": [
    "Je vais maintenant ajouter le type de transport pour chaque ticket.\n",
    "\n",
    "Je vais filtrer les datas des providers pour differencier les providers de bus, train et voiture.\n",
    "Le filtre est là pour determiner ceux qui proposent la voiture, ceux qui proposent le train, et ceux qui ne proposent ni train ni voiture proposent le bus."
   ]
  },
  {
   "cell_type": "code",
   "execution_count": 9,
   "metadata": {},
   "outputs": [],
   "source": [
    "\n",
    "df_train = df_providers.loc[df_providers['transport_type'].str.contains('train', flags=re.I, regex=True)]\n",
    "df_car = df_providers.loc[df_providers['transport_type'].str.contains('car[a-z]*', flags=re.I, regex=True)]\n",
    "\n",
    "car_id = list(df_car['id'])\n",
    "train_id = list(df_train['id'])\n",
    "\n",
    "# print(train_id, car_id)"
   ]
  },
  {
   "cell_type": "markdown",
   "metadata": {},
   "source": [
    "##### A noter : un souci dans la forme de la data : \n",
    "Les datas dans la colonne **\"other_companies\"** ne sont pas des sets d'int, ou meme un set tout court. Quand ce n'est pas null, c'est une str! \n",
    "Je définis donc une fonction qui va transformer la string de chaque row de la colonne 'other_companies' en un set d'int, tel qu'il nous l'apparaissait visuellement dans le CSV.\n",
    "\n",
    "De la même maniere la colonne **\"middle_stations\"** contient des str et non des sets d'int."
   ]
  },
  {
   "cell_type": "code",
   "execution_count": 10,
   "metadata": {},
   "outputs": [],
   "source": [
    "def try_to_int(str_to_conv):\n",
    "    try:\n",
    "        res = set(map(int, str_to_conv.split(',')))\n",
    "        return res\n",
    "    except (AttributeError):\n",
    "        return np.nan\n",
    "\n",
    "df_ticket['other_companies'] = df_ticket['other_companies'].str.strip('{}')\n",
    "df_ticket['other_companies'] = [try_to_int(i) for i in df_ticket['other_companies']]\n"
   ]
  },
  {
   "cell_type": "code",
   "execution_count": 11,
   "metadata": {},
   "outputs": [],
   "source": [
    "#######TEST PRINT###########\n",
    "# print(df_ticket.head(10))"
   ]
  },
  {
   "cell_type": "markdown",
   "metadata": {},
   "source": [
    "Cependant, des series contenant des listes ou des sets sont difficiles à manipuler.\n",
    "Les listes et les sets ne sont pas hashables, le seul moyen de traiter ces informations est donc de faire des boucles,\n",
    "ce qui rallonge les temps de calculs exponentiellement suivant la taille du dataset.\n",
    "\n",
    "\n",
    "\n",
    "#### A noter:\n",
    "\n",
    "Pour simplifier, je vais supposer que même s'il y a correspondance dans le ticket, il n'y pas de changement de moyen de transport.\n",
    "Le type de transport au départ du trajet est donc considéré comme étant le seul type de transport utilisé sur l'ensemble du trajet.\n"
   ]
  },
  {
   "cell_type": "code",
   "execution_count": 12,
   "metadata": {
    "scrolled": false
   },
   "outputs": [],
   "source": [
    "df_ticket['transport_type'] = ''\n",
    "\n",
    "        \n",
    "df_ticket.loc[(df_ticket['company'].isin(car_id)), 'transport_type'] = 'car'\n",
    "\n",
    "df_ticket.loc[(df_ticket['company'].isin(train_id)), 'transport_type'] = 'train'\n",
    "\n",
    "df_ticket.loc[(~df_ticket['company'].isin(car_id)) & (~df_ticket['company'].isin(train_id)), 'transport_type'] = 'bus'\n"
   ]
  },
  {
   "cell_type": "code",
   "execution_count": 13,
   "metadata": {},
   "outputs": [],
   "source": [
    "#######TEST PRINT###########\n",
    "# print(df_ticket.head(10))"
   ]
  },
  {
   "cell_type": "markdown",
   "metadata": {},
   "source": [
    "## Deuxieme étape : Extraction des infos intéressantes!\n",
    "\n",
    "Maintenant que j'ai affiné la data pour la rendre utilisable efficacement, avec l'ajout de data cohérentes et condensées, je vais pouvoir faire des opérations dessus, et réaliser ma mission. (je suis content que mon ordinateur ne se soit pas autodétruit après l'avoir acceptée...)\n",
    "\n",
    "Avant de se perdre dans l'infinité de possibilités de combinaisons de la data, je vais déjà vous présenter les données intéressantes basiques telles que les présentation par trajet, par moyen de transport, par distance ... même par combinaison de plusieurs critères différents.\n",
    "\n",
    "Ci-dessous, je crée une dataframe avec les data pertinentes."
   ]
  },
  {
   "cell_type": "code",
   "execution_count": 14,
   "metadata": {},
   "outputs": [],
   "source": [
    "df_info_base = df_ticket[['company', 'price_in_cents', 'o_city', 'd_city', 'travel_duration', 'travel_distance', 'transport_type']]\n"
   ]
  },
  {
   "cell_type": "code",
   "execution_count": 15,
   "metadata": {},
   "outputs": [],
   "source": [
    "#######TEST PRINT###########\n",
    "#print(df_info_base.head(10))"
   ]
  },
  {
   "cell_type": "markdown",
   "metadata": {},
   "source": [
    "**par trajet ->**\n",
    "\n",
    "    prix min, moyen et max,\n",
    "    \n",
    "    durée min, moyenne et max"
   ]
  },
  {
   "cell_type": "code",
   "execution_count": 16,
   "metadata": {},
   "outputs": [],
   "source": [
    "## Les prix moyens, minimaux et maximaux par trajets, triés du moins cher au plus cher.\n",
    "\n",
    "df_price_mean = df_info_base.groupby(['o_city', 'd_city']).mean().sort_values('price_in_cents', ascending=True)['price_in_cents']\n",
    "df_price_min = df_info_base.groupby(['o_city', 'd_city']).min().sort_values('price_in_cents', ascending=True)['price_in_cents']\n",
    "df_price_max = df_info_base.groupby(['o_city', 'd_city']).max().sort_values('price_in_cents', ascending=True)['price_in_cents']\n",
    "\n",
    "## Les durées de trajet moyennes, minimales, et maximales par trajets, en heures (float), triés du plus court au plus long\n",
    "\n",
    "df_duration_mean = df_info_base.groupby(['o_city', 'd_city']).mean().sort_values('travel_duration', ascending=True)['travel_duration']\n",
    "df_shortest = df_info_base.groupby(['o_city', 'd_city']).min().sort_values('travel_duration', ascending=True)['travel_duration']\n",
    "df_longuest = df_info_base.groupby(['o_city', 'd_city']).max().sort_values('travel_duration', ascending=True)['travel_duration']\n"
   ]
  },
  {
   "cell_type": "code",
   "execution_count": 17,
   "metadata": {},
   "outputs": [],
   "source": [
    "#######TEST PRINT###########\n",
    "# print(df_price_mean.head(10))\n",
    "# print(df_price_min.head(10))\n",
    "# print(df_price_max.head(10))\n",
    "\n",
    "# print(df_duration_mean.head(10))\n",
    "# print(df_shortest.head(10))\n",
    "# print(df_longuest.head(10))"
   ]
  },
  {
   "cell_type": "markdown",
   "metadata": {},
   "source": [
    "#### A noter :\n",
    "\n",
    "Il n'y a pas de données sur des trajets entre des villes séparées par plus de 2000km. Je n'ai donc pas crée cette catégorie.\n",
    "\n",
    "\n",
    "**par moyen de transport ->** (pour chaque catégorie de distance : 0-200km, 201-800km, 800+km)\n",
    "\n",
    "    prix moyen des transports spécifiques en fonction de la distance,\n",
    "    \n",
    "    durée moyenne des transports spécifiques en fonction de la distance\n"
   ]
  },
  {
   "cell_type": "code",
   "execution_count": 18,
   "metadata": {},
   "outputs": [],
   "source": [
    "df_to_200km = df_info_base.loc[(df_info_base['travel_distance'] < 201)]\n",
    "df_to_800km = df_info_base.loc[(df_info_base['travel_distance'] < 801)]\n",
    "df_past_800km = df_info_base.loc[(df_info_base['travel_distance'] >= 801)]\n",
    "\n",
    "\n",
    "## Les prix moyens des transports, sur des trajets inferieurs à 201km, du plus cher au plus économique.\n",
    "df_by_type_price = df_to_200km.groupby(['transport_type']).mean().sort_values('price_in_cents', ascending=False)['price_in_cents']\n",
    "\n",
    "## Les durées moyennes des transports, sur des trajets inferieurs à 201km, du plus long au plus court.\n",
    "df_by_type_duration = df_to_200km.groupby(['transport_type']).mean().sort_values('travel_duration', ascending=False)['travel_duration']\n",
    "\n",
    "\n",
    "## Les prix moyens des transports, sur des trajets entre 201km et 800km, du plus cher au plus économique.\n",
    "df_by_type_price_800 = df_to_800km.groupby(['transport_type']).mean().sort_values('price_in_cents', ascending=False)['price_in_cents']\n",
    "\n",
    "## Les durées moyennes des transports, sur des trajets entre 201km et 800km, du plus long au plus court.\n",
    "df_by_type_duration_800 = df_to_800km.groupby(['transport_type']).mean().sort_values('travel_duration', ascending=False)['travel_duration']\n",
    "\n",
    "\n",
    "## Les prix moyens des transports, sur des trajets supérieurs à 801km, du plus cher au plus économique.\n",
    "df_by_type_price_past800 = df_past_800km.groupby(['transport_type']).mean().sort_values('price_in_cents', ascending=False)['price_in_cents']\n",
    "\n",
    "## Les durées moyennes des transports, sur des trajets supérieurs à 801km, du plus long au plus court.\n",
    "df_by_type_duration_past800 = df_past_800km.groupby(['transport_type']).mean().sort_values('travel_duration', ascending=False)['travel_duration']\n"
   ]
  },
  {
   "cell_type": "code",
   "execution_count": 19,
   "metadata": {},
   "outputs": [],
   "source": [
    "#######TEST PRINT###########\n",
    "# print(df_by_type_price)\n",
    "# print(df_by_type_duration)\n",
    "\n",
    "# print(df_by_type_price_800)\n",
    "# print(df_by_type_duration_800)\n",
    "\n",
    "# print(df_by_type_price_past800)\n",
    "# print(df_by_type_duration_past800)"
   ]
  },
  {
   "cell_type": "markdown",
   "metadata": {},
   "source": [
    "### Pour rendre un peu plus claires les comparaisons : \n",
    "\n",
    "Nous allons faire des graphes!\n",
    "Pour l'exemple, je vais présenter les infos précédentes (classées par categorie de distance) dans ces graphes."
   ]
  },
  {
   "cell_type": "code",
   "execution_count": 20,
   "metadata": {},
   "outputs": [],
   "source": [
    "## Ces dataframes servent surtout à la facilitation de l'écriture\n",
    "df_200 = df_to_200km.groupby(['transport_type'], as_index=False).mean()\n",
    "df_800 = df_to_800km.groupby(['transport_type'], as_index=False).mean()\n",
    "df_1000 = df_past_800km.groupby(['transport_type'], as_index=False).mean()\n",
    "\n",
    "## Cette dataframe contient les infos pertinentes et leurs moyennes par catégorie de distance\n",
    "df = pd.concat([df_200, df_800, df_1000])\n",
    "\n",
    "## Listes des points d'abscisse(distance) par moyen de transport.\n",
    "x_train = df.loc[df['transport_type'].str.contains('train'), 'travel_distance'].to_list()\n",
    "x_car = df.loc[df['transport_type'].str.contains('car'), 'travel_distance'].to_list()\n",
    "x_bus = df.loc[df['transport_type'].str.contains('bus'), 'travel_distance'].to_list()\n",
    "\n",
    "## Listes des points d'ordonnée(prix) par moyen de transport.\n",
    "y_train = df.loc[df['transport_type'].str.contains('train'), 'price_in_cents'].to_list()\n",
    "y_car = df.loc[df['transport_type'].str.contains('car'), 'price_in_cents'].to_list()\n",
    "y_bus = df.loc[df['transport_type'].str.contains('bus'), 'price_in_cents'].to_list()\n",
    "\n",
    "## Listes des points d'ordonnée(durée) par moyen de transport.\n",
    "y_train_t = df.loc[df['transport_type'].str.contains('train'), 'travel_duration'].to_list()\n",
    "y_car_t = df.loc[df['transport_type'].str.contains('car'), 'travel_duration'].to_list()\n",
    "y_bus_t = df.loc[df['transport_type'].str.contains('bus'), 'travel_duration'].to_list()\n"
   ]
  },
  {
   "cell_type": "markdown",
   "metadata": {},
   "source": [
    "#### Ci-dessous le graphe de comparaison des prix en fonction de la distance"
   ]
  },
  {
   "cell_type": "code",
   "execution_count": 21,
   "metadata": {},
   "outputs": [
    {
     "data": {
      "image/png": "[encoded data removed]",
      "text/plain": [
       "<Figure size 600x400 with 1 Axes>"
      ]
     },
     "metadata": {
      "needs_background": "light"
     },
     "output_type": "display_data"
    }
   ],
   "source": [
    "plt.figure(figsize=(6,4), dpi=100)\n",
    "\n",
    "plt.plot(x_train, y_train, 'b-', label='Train')\n",
    "plt.plot(x_car, y_car, 'r-', label='Car')\n",
    "plt.plot(x_bus, y_bus, 'g-', label='Bus')\n",
    "plt.title('Moyenne des prix(cts) selon la distance(km)')\n",
    "plt.xlabel('Distance en km')\n",
    "plt.ylabel('Prix en cts')\n",
    "\n",
    "\n",
    "plt.legend()\n",
    "plt.show()"
   ]
  },
  {
   "cell_type": "markdown",
   "metadata": {},
   "source": [
    "Description : \n",
    "\n",
    "On peut voir que le bus est le plus économique pour les destinations les plus lointaines, mais que la voiture reste compétitive pour les destinations proches. Le train, en revanche, est en moyenne plus cher quelque soit la destination.\n",
    "\n",
    "\n",
    "\n",
    "#### Ci-dessous le graphe de comparaison de la durée du trajet en fonction de la distance"
   ]
  },
  {
   "cell_type": "code",
   "execution_count": 22,
   "metadata": {},
   "outputs": [
    {
     "data": {
      "image/png": "[encoded data removed]",
      "text/plain": [
       "<Figure size 600x400 with 1 Axes>"
      ]
     },
     "metadata": {
      "needs_background": "light"
     },
     "output_type": "display_data"
    }
   ],
   "source": [
    "plt.figure(figsize=(6,4), dpi=100)\n",
    "\n",
    "plt.plot(x_train, y_train_t, 'b', label='Train')\n",
    "plt.plot(x_car, y_car_t, 'r', label='Car')\n",
    "plt.plot(x_bus, y_bus_t, 'g', label='Bus')\n",
    "plt.title('Moyenne de la durée(heures) selon la distance(km)')\n",
    "plt.xlabel('Distance en km')\n",
    "plt.ylabel('Durée en heures')\n",
    "\n",
    "plt.legend()\n",
    "plt.show()"
   ]
  },
  {
   "cell_type": "markdown",
   "metadata": {},
   "source": [
    "Description : \n",
    "\n",
    "On peut voir que le bus est le moyen de transport le plus lent, quelle que soit la distance jusqu'à destination.\n",
    "\n",
    "La voiture est le moyen de transport le plus rapide porte à porte.\n",
    "\n",
    "Le train reste compétitif, mais on peut supposer que les correspondances, parfois longues, augmentent la durée du voyage, expliquant ces durée de trajet plus longues qu'en voiture. On remarque cependant que plus la distance est grande, plus le train devient intéressant par rapport à la voiture. Par manque de données, on ne peut que supposer que le train est plus rapide pour les distances superieures à 1000km ou 1100km."
   ]
  },
  {
   "cell_type": "code",
   "execution_count": null,
   "metadata": {},
   "outputs": [],
   "source": []
  }
 ],
 "metadata": {
  "kernelspec": {
   "display_name": "Python 3",
   "language": "python",
   "name": "python3"
  },
  "language_info": {
   "codemirror_mode": {
    "name": "ipython",
    "version": 3
   },
   "file_extension": ".py",
   "mimetype": "text/x-python",
   "name": "python",
   "nbconvert_exporter": "python",
   "pygments_lexer": "ipython3",
   "version": "3.8.5"
  }
 },
 "nbformat": 4,
 "nbformat_minor": 4
}
